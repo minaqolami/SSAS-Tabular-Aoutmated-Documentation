{
 "cells": [
  {
   "cell_type": "code",
   "execution_count": 5,
   "metadata": {},
   "outputs": [],
   "source": [
    "import csv\n",
    "import adodbapi"
   ]
  },
  {
   "cell_type": "code",
   "execution_count": 6,
   "metadata": {},
   "outputs": [],
   "source": [
    "def execute_query_and_save_to_csv(connection_string, query, csv_filename):\n",
    "    try:\n",
    "        conn = adodbapi.connect(connection_string)\n",
    "        cursor = conn.cursor()\n",
    "        cursor.execute(query)\n",
    "\n",
    "        with open(csv_filename, 'w', newline='') as csvfile:\n",
    "            csv_writer = csv.writer(csvfile)\n",
    "            csv_writer.writerow([d[0] for d in cursor.description])  # Write headers\n",
    "            csv_writer.writerows(cursor.fetchall())  # Write data rows\n",
    "\n",
    "        print(f\"Query results saved to {csv_filename}\")\n",
    "\n",
    "    except Exception as e:\n",
    "        print(\"An error occurred:\", str(e))"
   ]
  },
  {
   "cell_type": "code",
   "execution_count": 4,
   "metadata": {},
   "outputs": [],
   "source": [
    "def save_to_csv(data, filename):\n",
    "    with open(filename, 'w', newline='', encoding='utf-8') as csvfile:\n",
    "        writer = csv.writer(csvfile)\n",
    "        writer.writerows(data)"
   ]
  },
  {
   "cell_type": "code",
   "execution_count": 7,
   "metadata": {},
   "outputs": [
    {
     "name": "stdout",
     "output_type": "stream",
     "text": [
      "Query results saved to measures.csv\n",
      "Query results saved to tables.csv\n"
     ]
    }
   ],
   "source": [
    "def main():\n",
    "    # Update these variables with your Analysis Services connection details\n",
    "    server = 'your Server Name'\n",
    "    database = 'your data base'\n",
    "\n",
    "    connection_string = f\"Provider=MSOLAP;Data Source={server};Initial Catalog={database};\"\n",
    "\n",
    "    # Query to get all measures\n",
    "    query_measures = \"SELECT * FROM $SYSTEM.MDSCHEMA_MEASURES\"\n",
    "\n",
    "    # Query to get all tables\n",
    "    query_tables = \"SELECT * FROM $SYSTEM.TMSCHEMA_TABLES\"\n",
    "\n",
    "    # Save results to CSV files\n",
    "    execute_query_and_save_to_csv(connection_string, query_measures, \"measures.csv\")\n",
    "    execute_query_and_save_to_csv(connection_string, query_tables, \"tables.csv\")\n",
    "\n",
    "if __name__ == \"__main__\":\n",
    "    main()"
   ]
  }
 ],
 "metadata": {
  "kernelspec": {
   "display_name": "Python 3",
   "language": "python",
   "name": "python3"
  },
  "language_info": {
   "codemirror_mode": {
    "name": "ipython",
    "version": 3
   },
   "file_extension": ".py",
   "mimetype": "text/x-python",
   "name": "python",
   "nbconvert_exporter": "python",
   "pygments_lexer": "ipython3",
   "version": "3.12.2"
  }
 },
 "nbformat": 4,
 "nbformat_minor": 2
}
