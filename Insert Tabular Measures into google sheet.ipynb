{
 "cells": [
  {
   "cell_type": "code",
   "execution_count": 47,
   "metadata": {},
   "outputs": [],
   "source": [
    "import pyodbc\n",
    "import gspread\n",
    "from oauth2client.service_account import ServiceAccountCredentials\n",
    "import adodbapi"
   ]
  },
  {
   "cell_type": "code",
   "execution_count": 48,
   "metadata": {},
   "outputs": [],
   "source": [
    "server = 'your server'\n",
    "database = 'your database'\n",
    "connection_string = f\"Provider=MSOLAP;Data Source={server};Initial Catalog={database};\""
   ]
  },
  {
   "cell_type": "code",
   "execution_count": 49,
   "metadata": {},
   "outputs": [],
   "source": [
    "scopes=['https://spreadsheets.google.com/feeds','https://www.googleapis.com/auth/drive']\n",
    "google_sheet_credentials = ServiceAccountCredentials.from_json_keyfile_name('key3.json', scopes)"
   ]
  },
  {
   "cell_type": "code",
   "execution_count": 50,
   "metadata": {},
   "outputs": [],
   "source": [
    "try:\n",
    "    conn = adodbapi.connect(connection_string)\n",
    "    cursor = conn.cursor()\n",
    "except adodbapi.Error as e:\n",
    "    print(\"data connection error\")\n",
    "    exit()"
   ]
  },
  {
   "cell_type": "code",
   "execution_count": 51,
   "metadata": {},
   "outputs": [],
   "source": [
    "#execute the queries \n",
    "try:\n",
    "    cursor.execute(\"SELECT * FROM $SYSTEM.MDSCHEMA_MEASURES\")\n",
    "    md_schema_measures = cursor.fetchall()\n",
    "except adodbapi.Error as e:\n",
    "    print(\"Error executing SQL queries:\", e)\n",
    "    cursor.close()\n",
    "    conn.close()\n",
    "    exit()"
   ]
  },
  {
   "cell_type": "code",
   "execution_count": 52,
   "metadata": {},
   "outputs": [],
   "source": [
    "# Connect to Google Sheets\n",
    "try:\n",
    "    gc = gspread.authorize(google_sheet_credentials)\n",
    "    sheet = gc.open_by_url(\"https://docs.google.com/spreadsheets/your URL\")\n",
    "    worksheet = sheet.get_worksheet(0)  # Assuming you want to write to the first worksheet\n",
    "except gspread.exceptions.APIError as e:\n",
    "    print(\"Google Sheets API Error:\", e)\n",
    "    cursor.close()\n",
    "    conn.close()\n",
    "    exit()"
   ]
  },
  {
   "cell_type": "code",
   "execution_count": 53,
   "metadata": {},
   "outputs": [
    {
     "name": "stdout",
     "output_type": "stream",
     "text": [
      "Error writing data to Google Sheets: {'code': 429, 'message': \"Quota exceeded for quota metric 'Write requests' and limit 'Write requests per minute per user' of service 'sheets.googleapis.com' for consumer 'project_number:650650901881'.\", 'status': 'RESOURCE_EXHAUSTED', 'details': [{'@type': 'type.googleapis.com/google.rpc.ErrorInfo', 'reason': 'RATE_LIMIT_EXCEEDED', 'domain': 'googleapis.com', 'metadata': {'quota_limit': 'WriteRequestsPerMinutePerUser', 'quota_location': 'global', 'service': 'sheets.googleapis.com', 'quota_metric': 'sheets.googleapis.com/write_requests', 'consumer': 'projects/650650901881', 'quota_limit_value': '60'}}, {'@type': 'type.googleapis.com/google.rpc.Help', 'links': [{'description': 'Request a higher quota limit.', 'url': 'https://cloud.google.com/docs/quota#requesting_higher_quota'}]}]}\n"
     ]
    }
   ],
   "source": [
    "# Write results to Google Sheets\n",
    "try:\n",
    "    # Clear existing data in the worksheet\n",
    "    worksheet.clear()\n",
    "\n",
    "    # Write MDSCHEMA_MEASURES to Google Sheets with header\n",
    "    if cursor.description:\n",
    "        headers = [description[0] for description in cursor.description]\n",
    "        worksheet.insert_row(headers, index=1)  # Insert header row at index 1\n",
    "\n",
    "    for i, row in enumerate(md_schema_measures):\n",
    "        values = [str(value) for value in row]  # Convert values to strings if necessary\n",
    "        worksheet.insert_row(values, index=i+2)  # Insert data rows below header\n",
    "\n",
    "    print(\"Data successfully written to Google Sheets.\")\n",
    "except gspread.exceptions.APIError as e:\n",
    "    print(\"Error writing data to Google Sheets:\", e)\n"
   ]
  }
 ],
 "metadata": {
  "kernelspec": {
   "display_name": "Python 3",
   "language": "python",
   "name": "python3"
  },
  "language_info": {
   "codemirror_mode": {
    "name": "ipython",
    "version": 3
   },
   "file_extension": ".py",
   "mimetype": "text/x-python",
   "name": "python",
   "nbconvert_exporter": "python",
   "pygments_lexer": "ipython3",
   "version": "3.12.2"
  }
 },
 "nbformat": 4,
 "nbformat_minor": 2
}
