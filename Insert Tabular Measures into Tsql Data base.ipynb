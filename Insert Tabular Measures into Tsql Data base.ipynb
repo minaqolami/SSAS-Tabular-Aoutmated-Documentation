{
 "cells": [
  {
   "cell_type": "code",
   "execution_count": null,
   "metadata": {},
   "outputs": [],
   "source": [
    "import adodbapi\n",
    "import pyodbc\n"
   ]
  },
  {
   "cell_type": "code",
   "execution_count": null,
   "metadata": {},
   "outputs": [],
   "source": [
    "# Connect to SSAS Tabular model\n",
    "connection_string = \"Provider=MSOLAP;Data Source=your_server;Initial Catalog=your_database;\"\n",
    "conn = adodbapi.connect(connection_string)\n",
    "cursor = conn.cursor()"
   ]
  },
  {
   "cell_type": "code",
   "execution_count": null,
   "metadata": {},
   "outputs": [],
   "source": [
    "# Query to get all measures\n",
    "query_measures = \"SELECT * FROM $SYSTEM.MDSCHEMA_MEASURES\"\n",
    "cursor.execute(query_measures)\n",
    "measures_data = cursor.fetchall()"
   ]
  },
  {
   "cell_type": "code",
   "execution_count": null,
   "metadata": {},
   "outputs": [],
   "source": [
    "# Query to get all tables\n",
    "query_tables = \"SELECT * FROM $SYSTEM.TMSCHEMA_TABLES\"\n",
    "cursor.execute(query_tables)\n",
    "tables_data = cursor.fetchall()"
   ]
  },
  {
   "cell_type": "code",
   "execution_count": null,
   "metadata": {},
   "outputs": [],
   "source": [
    "# Close connection\n",
    "cursor.close()\n",
    "conn.close()"
   ]
  },
  {
   "cell_type": "code",
   "execution_count": null,
   "metadata": {},
   "outputs": [],
   "source": [
    "\n",
    "# Connect to your database\n",
    "connection_string = 'DRIVER={your_driver};SERVER=your_server;DATABASE=your_database;UID=your_username;PWD=your_password'\n",
    "conn = pyodbc.connect(connection_string)\n",
    "cursor = conn.cursor()\n"
   ]
  },
  {
   "cell_type": "code",
   "execution_count": null,
   "metadata": {},
   "outputs": [],
   "source": [
    "# Insert measures data into database\n",
    "for row in measures_data:\n",
    "    cursor.execute(\"INSERT INTO MeasuresTable VALUES (?, ?, ?)\", row)\n",
    "\n",
    "# Commit changes and close connection\n",
    "conn.commit()\n",
    "cursor.close()\n",
    "conn.close()"
   ]
  }
 ],
 "metadata": {
  "language_info": {
   "name": "python"
  }
 },
 "nbformat": 4,
 "nbformat_minor": 2
}
